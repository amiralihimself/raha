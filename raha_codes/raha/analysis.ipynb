{
 "cells": [
  {
   "cell_type": "code",
   "execution_count": 64,
   "id": "improved-stuart",
   "metadata": {
    "scrolled": false
   },
   "outputs": [
    {
     "name": "stdout",
     "output_type": "stream",
     "text": [
      "rayyan\n",
      "baran Precision: 0.7234978873491913\n",
      "baran Recall: 0.4394514767932489\n",
      "baran F1: 0.5455781344887773\n"
     ]
    }
   ],
   "source": [
    "import pandas as pd\n",
    "import os \n",
    "os.chdir(r'C:\\Users\\madan\\Desktop\\Baran\\raha\\raha\\experimentResult')\n",
    "datasets=['hospital', 'flights', 'beers', 'rayyan']\n",
    "datasets=['rayyan']\n",
    "num_runs=10\n",
    "experiment='baran'\n",
    "avg_precision=0\n",
    "avg_f1=0\n",
    "avg_recall=0\n",
    "avg_precision=0\n",
    "\n",
    "for dataset_name in datasets:\n",
    "    Precision=[]\n",
    "    Recall=[]\n",
    "    F1=[]\n",
    "    print(dataset_name)\n",
    "    for run in range(1, num_runs+1):\n",
    "        df=pd.read_csv(experiment+\"_\"+dataset_name+\"_\"+str(run)+ \".csv\")\n",
    "        Precision.append(df['Precision'].values[0])\n",
    "        Recall.append(df['Recall'].values[0])\n",
    "        F1.append(df['F1'].values[0])\n",
    "    print(experiment+ \" Precision: \"+ str(sum(Precision)/num_runs))\n",
    "    print(experiment+ \" Recall: \"+ str(sum(Recall)/num_runs))\n",
    "    print(experiment+ \" F1: \"+ str(sum(F1)/num_runs))"
   ]
  },
  {
   "cell_type": "code",
   "execution_count": 65,
   "id": "second-ebony",
   "metadata": {},
   "outputs": [
    {
     "name": "stdout",
     "output_type": "stream",
     "text": [
      "rayyan\n",
      "baranexp3 Precision: 0.6525742250088284\n",
      "baranexp3 Recall: 0.4121308016877637\n",
      "baranexp3 F1: 0.5030285578176686\n"
     ]
    }
   ],
   "source": [
    "import pandas as pd\n",
    "import os \n",
    "os.chdir(r'C:\\Users\\madan\\Desktop\\Baran\\raha\\raha\\experimentResult')\n",
    "datasets=['hospital', 'flights', 'beers', 'rayyan']\n",
    "datasets=['rayyan']\n",
    "num_runs=10\n",
    "experiment='baranexp3'\n",
    "avg_Precision_2=0\n",
    "avg_F1_2=0\n",
    "avg_Recall_2=0\n",
    "avg_Precision_2=0\n",
    "\n",
    "for dataset_name in datasets:\n",
    "    Precision_2=[]\n",
    "    Recall_2=[]\n",
    "    F1_2=[]\n",
    "    print(dataset_name)\n",
    "    for run in range(1, num_runs+1):\n",
    "        df=pd.read_csv(experiment+\"_\"+dataset_name+\"_\"+str(run)+ \".csv\")\n",
    "        Precision_2.append(df['Precision'].values[0])\n",
    "        Recall_2.append(df['Recall'].values[0])\n",
    "        F1_2.append(df['F1'].values[0])\n",
    "    print(experiment+ \" Precision: \"+ str(sum(Precision_2)/num_runs))\n",
    "    print(experiment+ \" Recall: \"+ str(sum(Recall_2)/num_runs))\n",
    "    print(experiment+ \" F1: \"+ str(sum(F1_2)/num_runs))"
   ]
  },
  {
   "cell_type": "code",
   "execution_count": 66,
   "id": "subject-graphic",
   "metadata": {},
   "outputs": [
    {
     "name": "stdout",
     "output_type": "stream",
     "text": [
      "Precision\n",
      "Statistics=34.000, p=0.241\n",
      "Same distribution (fail to reject H0)\n",
      "Recall\n",
      "Statistics=40.500, p=0.496\n",
      "Same distribution (fail to reject H0)\n",
      "F1\n",
      "Statistics=39.000, p=0.427\n",
      "Same distribution (fail to reject H0)\n"
     ]
    }
   ],
   "source": [
    "from scipy.stats import mannwhitneyu\n",
    "# seed the random number generator\n",
    "# generate two independent samples\n",
    "\n",
    "# compare samples\n",
    "print(\"Precision\")\n",
    "stat, p = mannwhitneyu(Precision_2, Precision,alternative='two-sided')\n",
    "print('Statistics=%.3f, p=%.3f' % (stat, p))\n",
    "# interpret\n",
    "alpha = 0.05\n",
    "if p > alpha:\n",
    "\tprint('Same distribution (fail to reject H0)')\n",
    "else:\n",
    "\tprint('Different distribution (reject H0)')\n",
    "\n",
    "print(\"Recall\")\n",
    "stat, p = mannwhitneyu(Recall_2, Recall,alternative='two-sided')\n",
    "print('Statistics=%.3f, p=%.3f' % (stat, p))\n",
    "# interpret\n",
    "alpha = 0.05\n",
    "if p > alpha:\n",
    "\tprint('Same distribution (fail to reject H0)')\n",
    "else:\n",
    "\tprint('Different distribution (reject H0)')\n",
    "\n",
    "print(\"F1\")\n",
    "stat, p = mannwhitneyu(F1_2, F1,alternative='two-sided')\n",
    "print('Statistics=%.3f, p=%.3f' % (stat, p))\n",
    "# interpret\n",
    "alpha = 0.05\n",
    "if p > alpha:\n",
    "\tprint('Same distribution (fail to reject H0)')\n",
    "else:\n",
    "\tprint('Different distribution (reject H0)')"
   ]
  },
  {
   "cell_type": "code",
   "execution_count": 45,
   "id": "infectious-minnesota",
   "metadata": {},
   "outputs": [
    {
     "data": {
      "text/plain": [
       "[0.8470254957507082,\n",
       " 0.7877813504823151,\n",
       " 0.8303030303030303,\n",
       " 0.888641425389755,\n",
       " 0.8058510638297872,\n",
       " 0.8360215053763441,\n",
       " 0.9824561403508772,\n",
       " 0.8125,\n",
       " 0.9698492462311558,\n",
       " 0.974293059125964]"
      ]
     },
     "execution_count": 45,
     "metadata": {},
     "output_type": "execute_result"
    }
   ],
   "source": [
    "Precision_2"
   ]
  },
  {
   "cell_type": "code",
   "execution_count": 46,
   "id": "increasing-heating",
   "metadata": {},
   "outputs": [
    {
     "data": {
      "text/plain": [
       "[0.587426326129666,\n",
       " 0.481335952848723,\n",
       " 0.5383104125736738,\n",
       " 0.7838899803536346,\n",
       " 0.5952848722986247,\n",
       " 0.6110019646365422,\n",
       " 0.7701375245579568,\n",
       " 0.5108055009823183,\n",
       " 0.7583497053045186,\n",
       " 0.7445972495088409]"
      ]
     },
     "execution_count": 46,
     "metadata": {},
     "output_type": "execute_result"
    }
   ],
   "source": [
    "Recall_2"
   ]
  },
  {
   "cell_type": "code",
   "execution_count": 47,
   "id": "lesser-butterfly",
   "metadata": {},
   "outputs": [
    {
     "data": {
      "text/plain": [
       "[0.6937354988399073,\n",
       " 0.5975609756097561,\n",
       " 0.6531585220500596,\n",
       " 0.8329853862212943,\n",
       " 0.6847457627118644,\n",
       " 0.7060158910329171,\n",
       " 0.8634361233480177,\n",
       " 0.6272617611580217,\n",
       " 0.8511576626240352,\n",
       " 0.844097995545657]"
      ]
     },
     "execution_count": 47,
     "metadata": {},
     "output_type": "execute_result"
    }
   ],
   "source": [
    "F1_2"
   ]
  }
 ],
 "metadata": {
  "kernelspec": {
   "display_name": "Python 3",
   "language": "python",
   "name": "python3"
  },
  "language_info": {
   "codemirror_mode": {
    "name": "ipython",
    "version": 3
   },
   "file_extension": ".py",
   "mimetype": "text/x-python",
   "name": "python",
   "nbconvert_exporter": "python",
   "pygments_lexer": "ipython3",
   "version": "3.7.5"
  }
 },
 "nbformat": 4,
 "nbformat_minor": 5
}
